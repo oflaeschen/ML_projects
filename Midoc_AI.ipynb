{
  "nbformat": 4,
  "nbformat_minor": 0,
  "metadata": {
    "colab": {
      "name": "Midoc_AI.ipynb",
      "provenance": [],
      "authorship_tag": "ABX9TyMB8eb9ZdFv/SBKzmmDalA3",
      "include_colab_link": true
    },
    "kernelspec": {
      "name": "python3",
      "display_name": "Python 3"
    }
  },
  "cells": [
    {
      "cell_type": "markdown",
      "metadata": {
        "id": "view-in-github",
        "colab_type": "text"
      },
      "source": [
        "<a href=\"https://colab.research.google.com/github/oflaeschen/ML_projects/blob/master/Midoc_AI.ipynb\" target=\"_parent\"><img src=\"https://colab.research.google.com/assets/colab-badge.svg\" alt=\"Open In Colab\"/></a>"
      ]
    },
    {
      "cell_type": "code",
      "metadata": {
        "id": "MyUWBKM0kuOV",
        "colab_type": "code",
        "colab": {}
      },
      "source": [
        "import pandas as pd\n",
        "import numpy as np"
      ],
      "execution_count": null,
      "outputs": []
    },
    {
      "cell_type": "code",
      "metadata": {
        "id": "W7lEs4NP2DwP",
        "colab_type": "code",
        "colab": {
          "base_uri": "https://localhost:8080/",
          "height": 360
        },
        "outputId": "ac63bf0f-cc73-41be-ef50-584105db0cf7"
      },
      "source": [
        "pip install google-cloud-documentai"
      ],
      "execution_count": null,
      "outputs": [
        {
          "output_type": "stream",
          "text": [
            "Requirement already satisfied: google-cloud-documentai in /usr/local/lib/python3.6/dist-packages (0.2.0)\n",
            "Requirement already satisfied: proto-plus>=0.4.0 in /usr/local/lib/python3.6/dist-packages (from google-cloud-documentai) (1.0.0)\n",
            "Requirement already satisfied: google-api-core[grpc]<2.0.0dev,>=1.17.0 in /usr/local/lib/python3.6/dist-packages (from google-cloud-documentai) (1.21.0)\n",
            "Requirement already satisfied: protobuf>=3.5.1 in /usr/local/lib/python3.6/dist-packages (from proto-plus>=0.4.0->google-cloud-documentai) (3.12.2)\n",
            "Requirement already satisfied: google-auth<2.0dev,>=1.18.0 in /usr/local/lib/python3.6/dist-packages (from google-api-core[grpc]<2.0.0dev,>=1.17.0->google-cloud-documentai) (1.18.0)\n",
            "Requirement already satisfied: setuptools>=34.0.0 in /usr/local/lib/python3.6/dist-packages (from google-api-core[grpc]<2.0.0dev,>=1.17.0->google-cloud-documentai) (47.3.1)\n",
            "Requirement already satisfied: googleapis-common-protos<2.0dev,>=1.6.0 in /usr/local/lib/python3.6/dist-packages (from google-api-core[grpc]<2.0.0dev,>=1.17.0->google-cloud-documentai) (1.52.0)\n",
            "Requirement already satisfied: requests<3.0.0dev,>=2.18.0 in /usr/local/lib/python3.6/dist-packages (from google-api-core[grpc]<2.0.0dev,>=1.17.0->google-cloud-documentai) (2.23.0)\n",
            "Requirement already satisfied: pytz in /usr/local/lib/python3.6/dist-packages (from google-api-core[grpc]<2.0.0dev,>=1.17.0->google-cloud-documentai) (2018.9)\n",
            "Requirement already satisfied: six>=1.10.0 in /usr/local/lib/python3.6/dist-packages (from google-api-core[grpc]<2.0.0dev,>=1.17.0->google-cloud-documentai) (1.12.0)\n",
            "Requirement already satisfied: grpcio<2.0dev,>=1.29.0; extra == \"grpc\" in /usr/local/lib/python3.6/dist-packages (from google-api-core[grpc]<2.0.0dev,>=1.17.0->google-cloud-documentai) (1.29.0)\n",
            "Requirement already satisfied: rsa<5,>=3.1.4; python_version >= \"3\" in /usr/local/lib/python3.6/dist-packages (from google-auth<2.0dev,>=1.18.0->google-api-core[grpc]<2.0.0dev,>=1.17.0->google-cloud-documentai) (4.6)\n",
            "Requirement already satisfied: pyasn1-modules>=0.2.1 in /usr/local/lib/python3.6/dist-packages (from google-auth<2.0dev,>=1.18.0->google-api-core[grpc]<2.0.0dev,>=1.17.0->google-cloud-documentai) (0.2.8)\n",
            "Requirement already satisfied: cachetools<5.0,>=2.0.0 in /usr/local/lib/python3.6/dist-packages (from google-auth<2.0dev,>=1.18.0->google-api-core[grpc]<2.0.0dev,>=1.17.0->google-cloud-documentai) (4.1.0)\n",
            "Requirement already satisfied: idna<3,>=2.5 in /usr/local/lib/python3.6/dist-packages (from requests<3.0.0dev,>=2.18.0->google-api-core[grpc]<2.0.0dev,>=1.17.0->google-cloud-documentai) (2.9)\n",
            "Requirement already satisfied: urllib3!=1.25.0,!=1.25.1,<1.26,>=1.21.1 in /usr/local/lib/python3.6/dist-packages (from requests<3.0.0dev,>=2.18.0->google-api-core[grpc]<2.0.0dev,>=1.17.0->google-cloud-documentai) (1.24.3)\n",
            "Requirement already satisfied: certifi>=2017.4.17 in /usr/local/lib/python3.6/dist-packages (from requests<3.0.0dev,>=2.18.0->google-api-core[grpc]<2.0.0dev,>=1.17.0->google-cloud-documentai) (2020.4.5.2)\n",
            "Requirement already satisfied: chardet<4,>=3.0.2 in /usr/local/lib/python3.6/dist-packages (from requests<3.0.0dev,>=2.18.0->google-api-core[grpc]<2.0.0dev,>=1.17.0->google-cloud-documentai) (3.0.4)\n",
            "Requirement already satisfied: pyasn1>=0.1.3 in /usr/local/lib/python3.6/dist-packages (from rsa<5,>=3.1.4; python_version >= \"3\"->google-auth<2.0dev,>=1.18.0->google-api-core[grpc]<2.0.0dev,>=1.17.0->google-cloud-documentai) (0.4.8)\n"
          ],
          "name": "stdout"
        }
      ]
    },
    {
      "cell_type": "code",
      "metadata": {
        "id": "8rthvTch2WfB",
        "colab_type": "code",
        "colab": {}
      },
      "source": [
        "from google-cloud-documentai import "
      ],
      "execution_count": null,
      "outputs": []
    }
  ]
}